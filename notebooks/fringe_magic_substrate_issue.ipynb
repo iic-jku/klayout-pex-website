{
 "cells": [
  {
   "cell_type": "markdown",
   "metadata": {},
   "source": [
    "# Substrate fringe handling in MAGIC\n",
    "\n",
    "**Copyright 2025 Martin Köhler**\n",
    "\n",
    "Licensed under the Apache License, Version 2.0 (the \"License\"); you may not use this file except in compliance with the License. You may obtain a copy of the License at http://www.apache.org/licenses/LICENSE-2.0"
   ]
  },
  {
   "cell_type": "markdown",
   "metadata": {},
   "source": []
  },
  {
   "cell_type": "markdown",
   "metadata": {},
   "source": [
    "## Example: single_plate_100um_x_100um_li1_over_substrate\n",
    "\n",
    "![title](\"../figures/test_patterns/single_plate_100um_x_100um_li1_over_substrate_-_perimeter.png\")\n",
    "\n",
    "MAGIC extraction of the example https://github.com/martinjankoehler/klayout-pex/blob/main/testdata/designs/sky130A/test_patterns/single_plate_100um_x_100um_li1_over_substrate.gds.gz\n",
    "\n",
    "```\n",
    "Magic 8.3 revision 486\n",
    "\n",
    "CapDebug (ExtTechSimplePerimCap) (li-space): exts_perimCap[90][0]=40.700000\n",
    "...\n",
    "\n",
    "CapDebug (extNodeAreaFunc/Area) layer li(90), net li_0_0#, area=400000000 (10000 µm^2) nreg_cap += 369.9 fF\n",
    "CapDebug (extNodeAreaFunc/Perimeter/TopSide) layer li(90), net li_0_0#, length=20000 (100 µm), nreg_cap += 4.07 fF (now nreg_cap = 373.97 fF)\n",
    "CapDebug (extNodeAreaFunc/Perimeter/LeftSide) layer li(90), net li_0_0#, length=20000 (100 µm), nreg_cap += 4.07 fF (now nreg_cap = 378.04 fF)\n",
    "CapDebug (extNodeAreaFunc/Perimeter/BottomSide) layer li(90), net li_0_0#, length=20000 (100 µm), nreg_cap += 4.07 fF (now nreg_cap = 382.11 fF)\n",
    "CapDebug (extNodeAreaFunc/Perimeter/RightSide) layer li(90), net li_0_0#, length=20000 (100 µm), nreg_cap += 4.07 fF (now nreg_cap = 386.18 fF)\n",
    "CapDebug (extSetResist): li_0_0# area=400000000 (10000 µm^2) perim=80000 (400 µm)\n",
    "CapDebug ---\n",
    "```\n",
    "\n",
    "Magic has two fringe calculations:\n",
    "- perimeter (assumes $\\infty$ halo)\n",
    "- sideoverlap (assumes configured halo, e.g. $8.0\\ µm$) and also uses overlap capacitance coefficients\n",
    "\n",
    "Using the fringe calculation instead of perimeter calculation, then MAGIC has the issue that only if the halo is large enough, cfrac can become $1.0$"
   ]
  },
  {
   "cell_type": "code",
   "execution_count": 22,
   "metadata": {},
   "outputs": [
    {
     "name": "stdout",
     "output_type": "stream",
     "text": [
      "one_side_cap is 3.636301844883797 fF\n",
      "   - halo = 8.0 µm\n",
      "   - alpha_c = 0.7398\n",
      "   - cfrac = 0.8934402567282057\n",
      "\n",
      "one_side_cap is 4.069649764469079 fF\n",
      "   - halo = 10000.0 µm\n",
      "   - alpha_c = 0.7398\n",
      "   - cfrac = 0.9999139470439997\n",
      "\n"
     ]
    }
   ],
   "source": [
    "import math\n",
    "\n",
    "overlap_li_substrate = 36.99\n",
    "perimcap_li_substrate = 40.7  # comes from tech file\n",
    "\n",
    "def print_cap(halo_um: float):\n",
    "    scaling = 0.02 * 0.01 * 0.5 * 200.0   # MAGIC Scaling = 1e-4\n",
    "    side_length_um = 100.0  # µm\n",
    "\n",
    "    distance_um = halo_um\n",
    "\n",
    "    alpha_c = overlap_li_substrate * scaling\n",
    "    cfrac = (2.0 / math.pi) * math.atan(alpha_c * distance_um)\n",
    "    one_side_cap_fF = cfrac * side_length_um * perimcap_li_substrate / 1000.0\n",
    "\n",
    "    print(f\"one_side_cap is {one_side_cap_fF} fF\\n\"\n",
    "          f\"   - halo = {halo_um} µm\\n\"\n",
    "          f\"   - alpha_c = {alpha_c}\\n\"\n",
    "          f\"   - cfrac = {cfrac}\\n\")\n",
    "\n",
    "print_cap(halo_um=8.0)     # this is off\n",
    "print_cap(halo_um=10000.0) # this is correct\n"
   ]
  },
  {
   "cell_type": "markdown",
   "metadata": {},
   "source": [
    "## \n",
    "\n"
   ]
  },
  {
   "cell_type": "code",
   "execution_count": null,
   "metadata": {},
   "outputs": [],
   "source": []
  }
 ],
 "metadata": {
  "kernelspec": {
   "display_name": "iic_venv",
   "language": "python",
   "name": "python3"
  },
  "language_info": {
   "codemirror_mode": {
    "name": "ipython",
    "version": 3
   },
   "file_extension": ".py",
   "mimetype": "text/x-python",
   "name": "python",
   "nbconvert_exporter": "python",
   "pygments_lexer": "ipython3",
   "version": "3.12.7"
  }
 },
 "nbformat": 4,
 "nbformat_minor": 2
}
